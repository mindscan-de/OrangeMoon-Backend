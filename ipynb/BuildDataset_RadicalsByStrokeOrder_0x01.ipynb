{
 "cells": [
  {
   "cell_type": "markdown",
   "metadata": {},
   "source": [
    "# Build Dataset - Radicals by Stroke-Order 0x01"
   ]
  },
  {
   "cell_type": "markdown",
   "metadata": {},
   "source": [
    "Instead of recalculating the kanji-radical dataset and reorder them by stroke order for each time the kanji-radiclas are requested, there could be a prepared dataset, which already contains this information. This prepared datasets are common in normal programming, because there is no use in requesting the same data over and over again, and expecting different results, when the underlying database has not been changed."
   ]
  },
  {
   "cell_type": "code",
   "execution_count": null,
   "metadata": {},
   "outputs": [],
   "source": [
    "import json\n",
    "import os\n",
    "\n",
    "from jamdict import Jamdict\n",
    "\n"
   ]
  },
  {
   "cell_type": "code",
   "execution_count": null,
   "metadata": {},
   "outputs": [],
   "source": [
    "jamdict = Jamdict()"
   ]
  },
  {
   "cell_type": "code",
   "execution_count": null,
   "metadata": {},
   "outputs": [],
   "source": [
    "radicals = list(jamdict.radk.keys())"
   ]
  },
  {
   "cell_type": "code",
   "execution_count": null,
   "metadata": {},
   "outputs": [],
   "source": [
    "radicals"
   ]
  },
  {
   "cell_type": "code",
   "execution_count": null,
   "metadata": {},
   "outputs": [],
   "source": [
    "radicals_info={}\n",
    "for radical in radicals:\n",
    "    result = jamdict.lookup(radical)\n",
    "    # print(result.chars)\n",
    "    \n",
    "    # sometimes there are more chars given, we are only interested which is equal to the radical itself.\n",
    "    for char in result.chars:\n",
    "        if not char.literal==radical:\n",
    "            continue\n",
    "            \n",
    "        # to json provides a dictionary... not a json string\n",
    "        char_dict = char.to_json()\n",
    "        \n",
    "        # print(char_dict.keys())\n",
    "        # dict_keys(['literal', 'codepoints', 'radicals', 'stroke_count', 'grade', 'stroke_miscounts', \n",
    "        #            'variants', 'freq', 'rad_names', 'jlpt', 'dic_refs', 'q_codes', 'rm', 'nanoris'])\n",
    "        \n",
    "        # print(char_dict['stroke_count'])\n",
    "        # print(char_dict['literal'])\n",
    "        # print(char_dict['freq'])\n",
    "        \n",
    "        radicals_info[char_dict['literal']]=char_dict['stroke_count']"
   ]
  },
  {
   "cell_type": "code",
   "execution_count": null,
   "metadata": {},
   "outputs": [],
   "source": [
    "nonstandard_strokes={\n",
    "    'ノ':1, \n",
    "    'ヨ':3,\n",
    "    '｜':1,\n",
    "    'ハ':2,\n",
    "    '⺅':2,\n",
    "    '⻖':3,\n",
    "    '⻏':3,\n",
    "    '⺾':3,\n",
    "    '⺌':3,\n",
    "    '⺹':4,\n",
    "    'マ':2,\n",
    "    'ユ':2 }\n",
    "\n",
    "def get_stroke_count(radical):\n",
    "    global radicals_info\n",
    "    global nonstandard_strokes\n",
    "    \n",
    "    if radical not in radicals_info:\n",
    "        return nonstandard_strokes[radical]\n",
    "    return radicals_info[radical]\n",
    "        \n",
    "radicals.sort(key=get_stroke_count)"
   ]
  },
  {
   "cell_type": "code",
   "execution_count": null,
   "metadata": {},
   "outputs": [],
   "source": [
    "print(radicals)"
   ]
  },
  {
   "cell_type": "code",
   "execution_count": null,
   "metadata": {},
   "outputs": [],
   "source": [
    "myresult = jamdict.lookup('｜')"
   ]
  },
  {
   "cell_type": "code",
   "execution_count": null,
   "metadata": {},
   "outputs": [],
   "source": [
    "myresult"
   ]
  },
  {
   "cell_type": "code",
   "execution_count": null,
   "metadata": {},
   "outputs": [],
   "source": [
    "tree = {}\n",
    "\n",
    "for radical in radicals:\n",
    "    strokes = get_stroke_count(radical)\n",
    "    if not strokes in tree:\n",
    "        tree[strokes]=list()\n",
    "    tree[strokes].append(radical)\n",
    "    tree[strokes].sort()"
   ]
  },
  {
   "cell_type": "code",
   "execution_count": null,
   "metadata": {},
   "outputs": [],
   "source": [
    "index = list(tree.keys())\n",
    "index.sort()\n",
    "\n",
    "flattened = []\n",
    "for i in index:\n",
    "    flattened.extend(tree[i])\n",
    "\n",
    "flattened\n"
   ]
  },
  {
   "cell_type": "code",
   "execution_count": null,
   "metadata": {},
   "outputs": [],
   "source": [
    "DATA_DIR = '../data'\n",
    "RADICAL_STROKE_DATA = 'kanjiRadicalStrokeData.json'\n",
    "\n",
    "with open(os.path.join(DATA_DIR,RADICAL_STROKE_DATA),'w') as outputFile:\n",
    "    json.dump( {'tree': tree, 'list':flattened }, outputFile);"
   ]
  },
  {
   "cell_type": "code",
   "execution_count": null,
   "metadata": {},
   "outputs": [],
   "source": []
  }
 ],
 "metadata": {
  "kernelspec": {
   "display_name": "Python 3",
   "language": "python",
   "name": "python3"
  },
  "language_info": {
   "codemirror_mode": {
    "name": "ipython",
    "version": 3
   },
   "file_extension": ".py",
   "mimetype": "text/x-python",
   "name": "python",
   "nbconvert_exporter": "python",
   "pygments_lexer": "ipython3",
   "version": "3.6.4"
  },
  "toc": {
   "base_numbering": 1,
   "nav_menu": {},
   "number_sections": true,
   "sideBar": true,
   "skip_h1_title": false,
   "title_cell": "Table of Contents",
   "title_sidebar": "Contents",
   "toc_cell": false,
   "toc_position": {},
   "toc_section_display": true,
   "toc_window_display": false
  }
 },
 "nbformat": 4,
 "nbformat_minor": 2
}
