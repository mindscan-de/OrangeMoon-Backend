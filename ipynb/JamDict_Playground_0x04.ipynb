{
 "cells": [
  {
   "cell_type": "markdown",
   "metadata": {},
   "source": [
    "# JamDict Playgound 0x04"
   ]
  },
  {
   "cell_type": "markdown",
   "metadata": {},
   "source": [
    "This notebook is for collecting all Kanji for grades 1-6 and store them accordingly. Since we already have a database of all kanji Stroke data, which contains all kanji, we can use this as a reference for retrieving the Kanji from the databases accessible by jamdict."
   ]
  },
  {
   "cell_type": "code",
   "execution_count": null,
   "metadata": {},
   "outputs": [],
   "source": [
    "import json\n",
    "import os\n",
    "\n",
    "from jamdict import Jamdict"
   ]
  },
  {
   "cell_type": "code",
   "execution_count": null,
   "metadata": {},
   "outputs": [],
   "source": [
    "jamdict = Jamdict()"
   ]
  },
  {
   "cell_type": "markdown",
   "metadata": {},
   "source": [
    "## Load the Strokedata"
   ]
  },
  {
   "cell_type": "code",
   "execution_count": null,
   "metadata": {},
   "outputs": [],
   "source": [
    "DATA_DIR = '../data'\n",
    "RADICAL_STROKE_DATA = 'kanjiStrokeData.json'\n",
    "\n",
    "with open(os.path.join(DATA_DIR,RADICAL_STROKE_DATA),'r') as outputFile:\n",
    "    all_kanji = json.load( outputFile);\n",
    "    \n",
    "\n"
   ]
  },
  {
   "cell_type": "code",
   "execution_count": null,
   "metadata": {},
   "outputs": [],
   "source": [
    "grades = {}\n",
    "\n",
    "for i in range(11):\n",
    "    grades[i]=list()\n",
    "\n",
    "current_kanji = 0\n",
    "for kanji in all_kanji['list']:\n",
    "    current_kanji+=1\n",
    "    if(current_kanji%200 == 0):\n",
    "        print(\"iteration: {}\".format(current_kanji))\n",
    "    result = jamdict.lookup(kanji,strict_lookup=True)\n",
    "    \n",
    "    for char in result.chars:\n",
    "        \n",
    "        if char.grade and (not char.grade in grades.keys()):\n",
    "            print(\"unknown grade: {} found.\".format(char.grade))\n",
    "            grades[char.grade] = list()\n",
    "            \n",
    "        if( char.grade ):\n",
    "            grades[char.grade].append(char)\n"
   ]
  },
  {
   "cell_type": "code",
   "execution_count": null,
   "metadata": {},
   "outputs": [],
   "source": [
    "grades"
   ]
  },
  {
   "cell_type": "markdown",
   "metadata": {},
   "source": [
    "##  Function to save a dictionary"
   ]
  },
  {
   "cell_type": "code",
   "execution_count": null,
   "metadata": {},
   "outputs": [],
   "source": [
    "def get_readings(rm):\n",
    "    readings = rm['readings']\n",
    "    # extract\n",
    "    # type=\"ja_kun\" / value\n",
    "    kun = [ reading['value'] for reading in readings if reading['type']=='ja_kun']\n",
    "    #print(\"kun \")\n",
    "    #print(kun)\n",
    "    \n",
    "    # type=\"ja_on\" / value\n",
    "    on = [ reading['value'] for reading in readings if reading['type']=='ja_on']\n",
    "    #print(\"on \")\n",
    "    #print(on)\n",
    "    \n",
    "    return kun, on\n",
    "\n",
    "def get_meanings_eng(rm):\n",
    "    meanings = rm['meanings']\n",
    "    # extract\n",
    "    # m_lang=\"\"/value\n",
    "    eng_meanings = [ meaning['value'] for meaning in meanings if meaning['m_lang']=='']\n",
    "    #print('meanings')\n",
    "    #print(eng_meanings)\n",
    "    return eng_meanings\n",
    "\n",
    "def get_reference_id(allrefs, dict_name):\n",
    "    # print(allrefs)\n",
    "    for ref in allrefs:\n",
    "        if ref['type']==dict_name :\n",
    "            return int(ref['value'])\n",
    "    return 10000\n",
    "\n",
    "def save_dictionary(char_list, list_name:str):\n",
    "    myDict = {\n",
    "        'name':list_name, \n",
    "        'length':len(char_list),\n",
    "        'list':[]}\n",
    "    \n",
    "    reference={}\n",
    "    \n",
    "    for char in char_list:\n",
    "        myValue = { 'kanji': char.literal }\n",
    "        #print(dir(char))\n",
    "        \n",
    "        char_jsondata = char.to_json()\n",
    "        # print(char_jsondata.keys())\n",
    "        \n",
    "        rm=char_jsondata['rm']\n",
    "        #print(\"RM(0)\")\n",
    "        #print(rm[0])\n",
    "        kun,on = get_readings(rm[0])\n",
    "        myValue['kana'] = {'kun':kun, 'on':on }\n",
    "        myValue['meaning'] = get_meanings_eng(rm[0])\n",
    "        \n",
    "        myDict['list'].append(myValue)\n",
    "        # 'nelson_c', 'nelson_n' 'halpern_njecd', 'halpern_kkd', 'halpern_kkld', 'halpern_kkld_2ed', 'heisig', 'heisig6',\n",
    "        # 'gakken', 'oneill_names', 'oneill_kk', 'moro', 'henshall', 'sh_kk', 'sh_kk2', 'sakade', 'jf_cards', 'henshall3', \n",
    "        # 'tutt_cards', 'crowley', 'kanji_in_context', 'kodansha_compact', 'maniette'\n",
    "        reference[char.literal] = get_reference_id(char_jsondata['dic_refs'],'heisig6')\n",
    "        # break;\n",
    "   \n",
    "    mydict_list = myDict['list']\n",
    "    sorted_mydict_list = sorted(mydict_list, key=lambda entry: reference[entry['kanji']])\n",
    "    myDict['list'] = sorted_mydict_list\n",
    "    \n",
    "    with open(os.path.join(DATA_DIR+\"/quiz_data\", list_name+\".json\"),'w') as jsonOutputFile:\n",
    "        json.dump(myDict,jsonOutputFile,indent=2)\n",
    "        pass"
   ]
  },
  {
   "cell_type": "code",
   "execution_count": null,
   "metadata": {},
   "outputs": [],
   "source": []
  },
  {
   "cell_type": "code",
   "execution_count": null,
   "metadata": {},
   "outputs": [],
   "source": []
  },
  {
   "cell_type": "code",
   "execution_count": null,
   "metadata": {},
   "outputs": [],
   "source": []
  },
  {
   "cell_type": "code",
   "execution_count": null,
   "metadata": {},
   "outputs": [],
   "source": []
  },
  {
   "cell_type": "code",
   "execution_count": null,
   "metadata": {
    "scrolled": false
   },
   "outputs": [],
   "source": [
    "save_dictionary(grades['1'], 'Grade 1')\n",
    "len(grades['1'])"
   ]
  },
  {
   "cell_type": "code",
   "execution_count": null,
   "metadata": {},
   "outputs": [],
   "source": [
    "save_dictionary(grades['2'], 'Grade 2')\n",
    "len(grades['2'])"
   ]
  },
  {
   "cell_type": "code",
   "execution_count": null,
   "metadata": {},
   "outputs": [],
   "source": [
    "save_dictionary(grades['3'], 'Grade 3')\n",
    "len(grades['3'])"
   ]
  },
  {
   "cell_type": "code",
   "execution_count": null,
   "metadata": {},
   "outputs": [],
   "source": [
    "save_dictionary(grades['4'], 'Grade 4')\n",
    "len(grades['4'])"
   ]
  },
  {
   "cell_type": "code",
   "execution_count": null,
   "metadata": {},
   "outputs": [],
   "source": [
    "save_dictionary(grades['5'], 'Grade 5')\n",
    "len(grades['5'])"
   ]
  },
  {
   "cell_type": "code",
   "execution_count": null,
   "metadata": {},
   "outputs": [],
   "source": [
    "save_dictionary(grades['6'], 'Grade 6')\n",
    "len(grades['6'])"
   ]
  },
  {
   "cell_type": "code",
   "execution_count": null,
   "metadata": {},
   "outputs": [],
   "source": []
  },
  {
   "cell_type": "code",
   "execution_count": null,
   "metadata": {},
   "outputs": [],
   "source": [
    "save_dictionary(grades['8'], 'Grade 8 Kanji')\n",
    "len(grades['8'])"
   ]
  },
  {
   "cell_type": "code",
   "execution_count": null,
   "metadata": {},
   "outputs": [],
   "source": [
    "save_dictionary(grades['9'], 'Grade 9 Kanji')\n",
    "len(grades['9'])"
   ]
  },
  {
   "cell_type": "code",
   "execution_count": null,
   "metadata": {},
   "outputs": [],
   "source": [
    "save_dictionary(grades['10'], 'Grade 10 Kanji')\n",
    "len(grades['10'])"
   ]
  },
  {
   "cell_type": "code",
   "execution_count": null,
   "metadata": {},
   "outputs": [],
   "source": []
  },
  {
   "cell_type": "code",
   "execution_count": null,
   "metadata": {},
   "outputs": [],
   "source": []
  },
  {
   "cell_type": "code",
   "execution_count": null,
   "metadata": {},
   "outputs": [],
   "source": []
  },
  {
   "cell_type": "code",
   "execution_count": null,
   "metadata": {},
   "outputs": [],
   "source": []
  },
  {
   "cell_type": "code",
   "execution_count": null,
   "metadata": {},
   "outputs": [],
   "source": []
  },
  {
   "cell_type": "code",
   "execution_count": null,
   "metadata": {},
   "outputs": [],
   "source": []
  }
 ],
 "metadata": {
  "kernelspec": {
   "display_name": "Python 3",
   "language": "python",
   "name": "python3"
  },
  "language_info": {
   "codemirror_mode": {
    "name": "ipython",
    "version": 3
   },
   "file_extension": ".py",
   "mimetype": "text/x-python",
   "name": "python",
   "nbconvert_exporter": "python",
   "pygments_lexer": "ipython3",
   "version": "3.6.4"
  },
  "toc": {
   "base_numbering": 1,
   "nav_menu": {},
   "number_sections": true,
   "sideBar": true,
   "skip_h1_title": false,
   "title_cell": "Table of Contents",
   "title_sidebar": "Contents",
   "toc_cell": false,
   "toc_position": {},
   "toc_section_display": true,
   "toc_window_display": false
  }
 },
 "nbformat": 4,
 "nbformat_minor": 2
}
